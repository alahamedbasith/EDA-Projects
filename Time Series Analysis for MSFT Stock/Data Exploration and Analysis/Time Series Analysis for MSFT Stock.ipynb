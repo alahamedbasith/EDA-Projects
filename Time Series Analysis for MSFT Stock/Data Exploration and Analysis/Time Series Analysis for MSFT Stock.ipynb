{
 "cells": [
  {
   "cell_type": "markdown",
   "id": "80fc909d",
   "metadata": {},
   "source": [
    " ## Time Series Analysis for MSFT Stock"
   ]
  },
  {
   "cell_type": "markdown",
   "id": "ffa38812",
   "metadata": {},
   "source": [
    "### Install the Pandas Datareader and yfinance"
   ]
  },
  {
   "cell_type": "code",
   "execution_count": 1,
   "id": "d452e4d3",
   "metadata": {
    "scrolled": true
   },
   "outputs": [
    {
     "name": "stdout",
     "output_type": "stream",
     "text": [
      "Requirement already satisfied: pandas-datareader in d:\\anaconda\\lib\\site-packages (0.10.0)\n",
      "Requirement already satisfied: lxml in d:\\anaconda\\lib\\site-packages (from pandas-datareader) (4.9.3)\n",
      "Requirement already satisfied: pandas>=0.23 in d:\\anaconda\\lib\\site-packages (from pandas-datareader) (2.0.3)\n",
      "Requirement already satisfied: requests>=2.19.0 in d:\\anaconda\\lib\\site-packages (from pandas-datareader) (2.31.0)\n",
      "Requirement already satisfied: python-dateutil>=2.8.2 in d:\\anaconda\\lib\\site-packages (from pandas>=0.23->pandas-datareader) (2.8.2)\n",
      "Requirement already satisfied: pytz>=2020.1 in d:\\anaconda\\lib\\site-packages (from pandas>=0.23->pandas-datareader) (2023.3.post1)\n",
      "Requirement already satisfied: tzdata>=2022.1 in d:\\anaconda\\lib\\site-packages (from pandas>=0.23->pandas-datareader) (2023.3)\n",
      "Requirement already satisfied: numpy>=1.21.0 in d:\\anaconda\\lib\\site-packages (from pandas>=0.23->pandas-datareader) (1.24.3)\n",
      "Requirement already satisfied: charset-normalizer<4,>=2 in d:\\anaconda\\lib\\site-packages (from requests>=2.19.0->pandas-datareader) (2.0.4)\n",
      "Requirement already satisfied: idna<4,>=2.5 in d:\\anaconda\\lib\\site-packages (from requests>=2.19.0->pandas-datareader) (3.4)\n",
      "Requirement already satisfied: urllib3<3,>=1.21.1 in d:\\anaconda\\lib\\site-packages (from requests>=2.19.0->pandas-datareader) (1.26.16)\n",
      "Requirement already satisfied: certifi>=2017.4.17 in d:\\anaconda\\lib\\site-packages (from requests>=2.19.0->pandas-datareader) (2023.7.22)\n",
      "Requirement already satisfied: six>=1.5 in d:\\anaconda\\lib\\site-packages (from python-dateutil>=2.8.2->pandas>=0.23->pandas-datareader) (1.16.0)\n"
     ]
    }
   ],
   "source": [
    "## Install Pandas Data Reader\n",
    "!pip install pandas-datareader"
   ]
  },
  {
   "cell_type": "code",
   "execution_count": 2,
   "id": "5ee07cc1",
   "metadata": {},
   "outputs": [
    {
     "name": "stdout",
     "output_type": "stream",
     "text": [
      "Requirement already satisfied: yfinance in d:\\anaconda\\lib\\site-packages (0.2.31)\n",
      "Requirement already satisfied: pandas>=1.3.0 in d:\\anaconda\\lib\\site-packages (from yfinance) (2.0.3)\n",
      "Requirement already satisfied: numpy>=1.16.5 in d:\\anaconda\\lib\\site-packages (from yfinance) (1.24.3)\n",
      "Requirement already satisfied: requests>=2.31 in d:\\anaconda\\lib\\site-packages (from yfinance) (2.31.0)\n",
      "Requirement already satisfied: multitasking>=0.0.7 in d:\\anaconda\\lib\\site-packages (from yfinance) (0.0.11)\n",
      "Requirement already satisfied: lxml>=4.9.1 in d:\\anaconda\\lib\\site-packages (from yfinance) (4.9.3)\n",
      "Requirement already satisfied: appdirs>=1.4.4 in d:\\anaconda\\lib\\site-packages (from yfinance) (1.4.4)\n",
      "Requirement already satisfied: pytz>=2022.5 in d:\\anaconda\\lib\\site-packages (from yfinance) (2023.3.post1)\n",
      "Requirement already satisfied: frozendict>=2.3.4 in d:\\anaconda\\lib\\site-packages (from yfinance) (2.3.8)\n",
      "Requirement already satisfied: peewee>=3.16.2 in d:\\anaconda\\lib\\site-packages (from yfinance) (3.17.0)\n",
      "Requirement already satisfied: beautifulsoup4>=4.11.1 in d:\\anaconda\\lib\\site-packages (from yfinance) (4.12.2)\n",
      "Requirement already satisfied: html5lib>=1.1 in d:\\anaconda\\lib\\site-packages (from yfinance) (1.1)\n",
      "Requirement already satisfied: soupsieve>1.2 in d:\\anaconda\\lib\\site-packages (from beautifulsoup4>=4.11.1->yfinance) (2.4)\n",
      "Requirement already satisfied: six>=1.9 in d:\\anaconda\\lib\\site-packages (from html5lib>=1.1->yfinance) (1.16.0)\n",
      "Requirement already satisfied: webencodings in d:\\anaconda\\lib\\site-packages (from html5lib>=1.1->yfinance) (0.5.1)\n",
      "Requirement already satisfied: python-dateutil>=2.8.2 in d:\\anaconda\\lib\\site-packages (from pandas>=1.3.0->yfinance) (2.8.2)\n",
      "Requirement already satisfied: tzdata>=2022.1 in d:\\anaconda\\lib\\site-packages (from pandas>=1.3.0->yfinance) (2023.3)\n",
      "Requirement already satisfied: charset-normalizer<4,>=2 in d:\\anaconda\\lib\\site-packages (from requests>=2.31->yfinance) (2.0.4)\n",
      "Requirement already satisfied: idna<4,>=2.5 in d:\\anaconda\\lib\\site-packages (from requests>=2.31->yfinance) (3.4)\n",
      "Requirement already satisfied: urllib3<3,>=1.21.1 in d:\\anaconda\\lib\\site-packages (from requests>=2.31->yfinance) (1.26.16)\n",
      "Requirement already satisfied: certifi>=2017.4.17 in d:\\anaconda\\lib\\site-packages (from requests>=2.31->yfinance) (2023.7.22)\n"
     ]
    }
   ],
   "source": [
    "!pip install yfinance"
   ]
  },
  {
   "cell_type": "markdown",
   "id": "ecc1f4c7",
   "metadata": {},
   "source": [
    "##### Import the Required Libraries"
   ]
  },
  {
   "cell_type": "code",
   "execution_count": 3,
   "id": "28e04ef3",
   "metadata": {},
   "outputs": [],
   "source": [
    "import pandas\n",
    "from pandas_datareader import data as pdr\n",
    "import yfinance as yfin\n",
    "from datetime import datetime"
   ]
  },
  {
   "cell_type": "markdown",
   "id": "6be17bae",
   "metadata": {},
   "source": [
    "##### Read the Stock data"
   ]
  },
  {
   "cell_type": "code",
   "execution_count": 4,
   "id": "4ded1007",
   "metadata": {
    "scrolled": true
   },
   "outputs": [
    {
     "name": "stdout",
     "output_type": "stream",
     "text": [
      "[*********************100%%**********************]  1 of 1 completed\n"
     ]
    },
    {
     "data": {
      "text/html": [
       "<div>\n",
       "<style scoped>\n",
       "    .dataframe tbody tr th:only-of-type {\n",
       "        vertical-align: middle;\n",
       "    }\n",
       "\n",
       "    .dataframe tbody tr th {\n",
       "        vertical-align: top;\n",
       "    }\n",
       "\n",
       "    .dataframe thead th {\n",
       "        text-align: right;\n",
       "    }\n",
       "</style>\n",
       "<table border=\"1\" class=\"dataframe\">\n",
       "  <thead>\n",
       "    <tr style=\"text-align: right;\">\n",
       "      <th></th>\n",
       "      <th>Open</th>\n",
       "      <th>High</th>\n",
       "      <th>Low</th>\n",
       "      <th>Close</th>\n",
       "      <th>Adj Close</th>\n",
       "      <th>Volume</th>\n",
       "    </tr>\n",
       "    <tr>\n",
       "      <th>Date</th>\n",
       "      <th></th>\n",
       "      <th></th>\n",
       "      <th></th>\n",
       "      <th></th>\n",
       "      <th></th>\n",
       "      <th></th>\n",
       "    </tr>\n",
       "  </thead>\n",
       "  <tbody>\n",
       "    <tr>\n",
       "      <th>1986-03-13</th>\n",
       "      <td>0.088542</td>\n",
       "      <td>0.101563</td>\n",
       "      <td>0.088542</td>\n",
       "      <td>0.097222</td>\n",
       "      <td>0.060396</td>\n",
       "      <td>1031788800</td>\n",
       "    </tr>\n",
       "    <tr>\n",
       "      <th>1986-03-14</th>\n",
       "      <td>0.097222</td>\n",
       "      <td>0.102431</td>\n",
       "      <td>0.097222</td>\n",
       "      <td>0.100694</td>\n",
       "      <td>0.062553</td>\n",
       "      <td>308160000</td>\n",
       "    </tr>\n",
       "    <tr>\n",
       "      <th>1986-03-17</th>\n",
       "      <td>0.100694</td>\n",
       "      <td>0.103299</td>\n",
       "      <td>0.100694</td>\n",
       "      <td>0.102431</td>\n",
       "      <td>0.063632</td>\n",
       "      <td>133171200</td>\n",
       "    </tr>\n",
       "    <tr>\n",
       "      <th>1986-03-18</th>\n",
       "      <td>0.102431</td>\n",
       "      <td>0.103299</td>\n",
       "      <td>0.098958</td>\n",
       "      <td>0.099826</td>\n",
       "      <td>0.062014</td>\n",
       "      <td>67766400</td>\n",
       "    </tr>\n",
       "    <tr>\n",
       "      <th>1986-03-19</th>\n",
       "      <td>0.099826</td>\n",
       "      <td>0.100694</td>\n",
       "      <td>0.097222</td>\n",
       "      <td>0.098090</td>\n",
       "      <td>0.060936</td>\n",
       "      <td>47894400</td>\n",
       "    </tr>\n",
       "    <tr>\n",
       "      <th>...</th>\n",
       "      <td>...</td>\n",
       "      <td>...</td>\n",
       "      <td>...</td>\n",
       "      <td>...</td>\n",
       "      <td>...</td>\n",
       "      <td>...</td>\n",
       "    </tr>\n",
       "    <tr>\n",
       "      <th>2023-11-06</th>\n",
       "      <td>353.450012</td>\n",
       "      <td>357.540009</td>\n",
       "      <td>353.350006</td>\n",
       "      <td>356.529999</td>\n",
       "      <td>356.529999</td>\n",
       "      <td>23828300</td>\n",
       "    </tr>\n",
       "    <tr>\n",
       "      <th>2023-11-07</th>\n",
       "      <td>359.399994</td>\n",
       "      <td>362.459991</td>\n",
       "      <td>357.630005</td>\n",
       "      <td>360.529999</td>\n",
       "      <td>360.529999</td>\n",
       "      <td>25833900</td>\n",
       "    </tr>\n",
       "    <tr>\n",
       "      <th>2023-11-08</th>\n",
       "      <td>361.679993</td>\n",
       "      <td>363.869995</td>\n",
       "      <td>360.549988</td>\n",
       "      <td>363.200012</td>\n",
       "      <td>363.200012</td>\n",
       "      <td>26767800</td>\n",
       "    </tr>\n",
       "    <tr>\n",
       "      <th>2023-11-09</th>\n",
       "      <td>362.299988</td>\n",
       "      <td>364.790009</td>\n",
       "      <td>360.359985</td>\n",
       "      <td>360.690002</td>\n",
       "      <td>360.690002</td>\n",
       "      <td>24847300</td>\n",
       "    </tr>\n",
       "    <tr>\n",
       "      <th>2023-11-10</th>\n",
       "      <td>361.489990</td>\n",
       "      <td>370.100006</td>\n",
       "      <td>361.070007</td>\n",
       "      <td>369.670013</td>\n",
       "      <td>369.670013</td>\n",
       "      <td>28042100</td>\n",
       "    </tr>\n",
       "  </tbody>\n",
       "</table>\n",
       "<p>9494 rows × 6 columns</p>\n",
       "</div>"
      ],
      "text/plain": [
       "                  Open        High         Low       Close   Adj Close  \\\n",
       "Date                                                                     \n",
       "1986-03-13    0.088542    0.101563    0.088542    0.097222    0.060396   \n",
       "1986-03-14    0.097222    0.102431    0.097222    0.100694    0.062553   \n",
       "1986-03-17    0.100694    0.103299    0.100694    0.102431    0.063632   \n",
       "1986-03-18    0.102431    0.103299    0.098958    0.099826    0.062014   \n",
       "1986-03-19    0.099826    0.100694    0.097222    0.098090    0.060936   \n",
       "...                ...         ...         ...         ...         ...   \n",
       "2023-11-06  353.450012  357.540009  353.350006  356.529999  356.529999   \n",
       "2023-11-07  359.399994  362.459991  357.630005  360.529999  360.529999   \n",
       "2023-11-08  361.679993  363.869995  360.549988  363.200012  363.200012   \n",
       "2023-11-09  362.299988  364.790009  360.359985  360.690002  360.690002   \n",
       "2023-11-10  361.489990  370.100006  361.070007  369.670013  369.670013   \n",
       "\n",
       "                Volume  \n",
       "Date                    \n",
       "1986-03-13  1031788800  \n",
       "1986-03-14   308160000  \n",
       "1986-03-17   133171200  \n",
       "1986-03-18    67766400  \n",
       "1986-03-19    47894400  \n",
       "...                ...  \n",
       "2023-11-06    23828300  \n",
       "2023-11-07    25833900  \n",
       "2023-11-08    26767800  \n",
       "2023-11-09    24847300  \n",
       "2023-11-10    28042100  \n",
       "\n",
       "[9494 rows x 6 columns]"
      ]
     },
     "execution_count": 4,
     "metadata": {},
     "output_type": "execute_result"
    }
   ],
   "source": [
    "yfin.pdr_override()\n",
    "df_microsoft = pdr.get_data_yahoo('MSFT', start='1970-10-24', end='2023-11-11')\n",
    "df_microsoft"
   ]
  },
  {
   "cell_type": "markdown",
   "id": "df805926",
   "metadata": {},
   "source": [
    "Plotting the High Feature"
   ]
  },
  {
   "cell_type": "code",
   "execution_count": 5,
   "id": "d83f3146",
   "metadata": {},
   "outputs": [
    {
     "data": {
      "text/plain": [
       "<Axes: xlabel='Date'>"
      ]
     },
     "execution_count": 5,
     "metadata": {},
     "output_type": "execute_result"
    },
    {
     "data": {
      "image/png": "[encoded data removed]",
      "text/plain": [
       "<Figure size 1200x400 with 1 Axes>"
      ]
     },
     "metadata": {},
     "output_type": "display_data"
    }
   ],
   "source": [
    "df_microsoft['High'].plot(figsize=(12,4))"
   ]
  },
  {
   "cell_type": "markdown",
   "id": "7d84432f",
   "metadata": {},
   "source": [
    "Plotting the High Feature with x axis limit.It is used to plot the particular range of date"
   ]
  },
  {
   "cell_type": "code",
   "execution_count": 6,
   "id": "594d2223",
   "metadata": {},
   "outputs": [
    {
     "data": {
      "text/plain": [
       "<Axes: xlabel='Date'>"
      ]
     },
     "execution_count": 6,
     "metadata": {},
     "output_type": "execute_result"
    },
    {
     "data": {
      "image/png": "[encoded data removed]",
      "text/plain": [
       "<Figure size 1200x400 with 1 Axes>"
      ]
     },
     "metadata": {},
     "output_type": "display_data"
    }
   ],
   "source": [
    "df_microsoft['High'].plot(xlim = ['2020-01-01','2023-11-11'],figsize=(12,4))"
   ]
  },
  {
   "cell_type": "markdown",
   "id": "45da8f44",
   "metadata": {},
   "source": [
    "Plotting the High Feature with x and y limit"
   ]
  },
  {
   "cell_type": "code",
   "execution_count": 7,
   "id": "a1576be8",
   "metadata": {},
   "outputs": [
    {
     "data": {
      "text/plain": [
       "<Axes: xlabel='Date'>"
      ]
     },
     "execution_count": 7,
     "metadata": {},
     "output_type": "execute_result"
    },
    {
     "data": {
      "image/png": "[encoded data removed]",
      "text/plain": [
       "<Figure size 1200x400 with 1 Axes>"
      ]
     },
     "metadata": {},
     "output_type": "display_data"
    }
   ],
   "source": [
    "df_microsoft['High'].plot(xlim = ['2020-01-01','2023-11-11'],ylim=[0,500],figsize=(12,4))"
   ]
  },
  {
   "cell_type": "markdown",
   "id": "86027348",
   "metadata": {},
   "source": [
    "Plotting the High Feature with x and y limit with style"
   ]
  },
  {
   "cell_type": "code",
   "execution_count": 8,
   "id": "8a668a04",
   "metadata": {},
   "outputs": [
    {
     "data": {
      "text/plain": [
       "<Axes: xlabel='Date'>"
      ]
     },
     "execution_count": 8,
     "metadata": {},
     "output_type": "execute_result"
    },
    {
     "data": {
      "image/png": "[encoded data removed]",
      "text/plain": [
       "<Figure size 1200x400 with 1 Axes>"
      ]
     },
     "metadata": {},
     "output_type": "display_data"
    }
   ],
   "source": [
    "df_microsoft['High'].plot(xlim=['2020-01-01','2023-11-11'],ylim=[0,380],figsize=(12,4),ls='--',c='red')"
   ]
  },
  {
   "cell_type": "markdown",
   "id": "7261dbcd",
   "metadata": {},
   "source": [
    "Extract the particular date using loc function"
   ]
  },
  {
   "cell_type": "code",
   "execution_count": 9,
   "id": "8561a3f6",
   "metadata": {},
   "outputs": [
    {
     "data": {
      "text/html": [
       "<div>\n",
       "<style scoped>\n",
       "    .dataframe tbody tr th:only-of-type {\n",
       "        vertical-align: middle;\n",
       "    }\n",
       "\n",
       "    .dataframe tbody tr th {\n",
       "        vertical-align: top;\n",
       "    }\n",
       "\n",
       "    .dataframe thead th {\n",
       "        text-align: right;\n",
       "    }\n",
       "</style>\n",
       "<table border=\"1\" class=\"dataframe\">\n",
       "  <thead>\n",
       "    <tr style=\"text-align: right;\">\n",
       "      <th></th>\n",
       "      <th>Open</th>\n",
       "      <th>High</th>\n",
       "      <th>Low</th>\n",
       "      <th>Close</th>\n",
       "      <th>Adj Close</th>\n",
       "      <th>Volume</th>\n",
       "    </tr>\n",
       "    <tr>\n",
       "      <th>Date</th>\n",
       "      <th></th>\n",
       "      <th></th>\n",
       "      <th></th>\n",
       "      <th></th>\n",
       "      <th></th>\n",
       "      <th></th>\n",
       "    </tr>\n",
       "  </thead>\n",
       "  <tbody>\n",
       "    <tr>\n",
       "      <th>2020-01-02</th>\n",
       "      <td>158.779999</td>\n",
       "      <td>160.729996</td>\n",
       "      <td>158.330002</td>\n",
       "      <td>160.619995</td>\n",
       "      <td>155.093674</td>\n",
       "      <td>22622100</td>\n",
       "    </tr>\n",
       "    <tr>\n",
       "      <th>2020-01-03</th>\n",
       "      <td>158.320007</td>\n",
       "      <td>159.949997</td>\n",
       "      <td>158.059998</td>\n",
       "      <td>158.619995</td>\n",
       "      <td>153.162491</td>\n",
       "      <td>21116200</td>\n",
       "    </tr>\n",
       "    <tr>\n",
       "      <th>2020-01-06</th>\n",
       "      <td>157.080002</td>\n",
       "      <td>159.100006</td>\n",
       "      <td>156.509995</td>\n",
       "      <td>159.029999</td>\n",
       "      <td>153.558380</td>\n",
       "      <td>20813700</td>\n",
       "    </tr>\n",
       "    <tr>\n",
       "      <th>2020-01-07</th>\n",
       "      <td>159.320007</td>\n",
       "      <td>159.669998</td>\n",
       "      <td>157.320007</td>\n",
       "      <td>157.580002</td>\n",
       "      <td>152.158249</td>\n",
       "      <td>21634100</td>\n",
       "    </tr>\n",
       "    <tr>\n",
       "      <th>2020-01-08</th>\n",
       "      <td>158.929993</td>\n",
       "      <td>160.800003</td>\n",
       "      <td>157.949997</td>\n",
       "      <td>160.089996</td>\n",
       "      <td>154.581894</td>\n",
       "      <td>27746500</td>\n",
       "    </tr>\n",
       "    <tr>\n",
       "      <th>...</th>\n",
       "      <td>...</td>\n",
       "      <td>...</td>\n",
       "      <td>...</td>\n",
       "      <td>...</td>\n",
       "      <td>...</td>\n",
       "      <td>...</td>\n",
       "    </tr>\n",
       "    <tr>\n",
       "      <th>2023-11-06</th>\n",
       "      <td>353.450012</td>\n",
       "      <td>357.540009</td>\n",
       "      <td>353.350006</td>\n",
       "      <td>356.529999</td>\n",
       "      <td>356.529999</td>\n",
       "      <td>23828300</td>\n",
       "    </tr>\n",
       "    <tr>\n",
       "      <th>2023-11-07</th>\n",
       "      <td>359.399994</td>\n",
       "      <td>362.459991</td>\n",
       "      <td>357.630005</td>\n",
       "      <td>360.529999</td>\n",
       "      <td>360.529999</td>\n",
       "      <td>25833900</td>\n",
       "    </tr>\n",
       "    <tr>\n",
       "      <th>2023-11-08</th>\n",
       "      <td>361.679993</td>\n",
       "      <td>363.869995</td>\n",
       "      <td>360.549988</td>\n",
       "      <td>363.200012</td>\n",
       "      <td>363.200012</td>\n",
       "      <td>26767800</td>\n",
       "    </tr>\n",
       "    <tr>\n",
       "      <th>2023-11-09</th>\n",
       "      <td>362.299988</td>\n",
       "      <td>364.790009</td>\n",
       "      <td>360.359985</td>\n",
       "      <td>360.690002</td>\n",
       "      <td>360.690002</td>\n",
       "      <td>24847300</td>\n",
       "    </tr>\n",
       "    <tr>\n",
       "      <th>2023-11-10</th>\n",
       "      <td>361.489990</td>\n",
       "      <td>370.100006</td>\n",
       "      <td>361.070007</td>\n",
       "      <td>369.670013</td>\n",
       "      <td>369.670013</td>\n",
       "      <td>28042100</td>\n",
       "    </tr>\n",
       "  </tbody>\n",
       "</table>\n",
       "<p>973 rows × 6 columns</p>\n",
       "</div>"
      ],
      "text/plain": [
       "                  Open        High         Low       Close   Adj Close  \\\n",
       "Date                                                                     \n",
       "2020-01-02  158.779999  160.729996  158.330002  160.619995  155.093674   \n",
       "2020-01-03  158.320007  159.949997  158.059998  158.619995  153.162491   \n",
       "2020-01-06  157.080002  159.100006  156.509995  159.029999  153.558380   \n",
       "2020-01-07  159.320007  159.669998  157.320007  157.580002  152.158249   \n",
       "2020-01-08  158.929993  160.800003  157.949997  160.089996  154.581894   \n",
       "...                ...         ...         ...         ...         ...   \n",
       "2023-11-06  353.450012  357.540009  353.350006  356.529999  356.529999   \n",
       "2023-11-07  359.399994  362.459991  357.630005  360.529999  360.529999   \n",
       "2023-11-08  361.679993  363.869995  360.549988  363.200012  363.200012   \n",
       "2023-11-09  362.299988  364.790009  360.359985  360.690002  360.690002   \n",
       "2023-11-10  361.489990  370.100006  361.070007  369.670013  369.670013   \n",
       "\n",
       "              Volume  \n",
       "Date                  \n",
       "2020-01-02  22622100  \n",
       "2020-01-03  21116200  \n",
       "2020-01-06  20813700  \n",
       "2020-01-07  21634100  \n",
       "2020-01-08  27746500  \n",
       "...              ...  \n",
       "2023-11-06  23828300  \n",
       "2023-11-07  25833900  \n",
       "2023-11-08  26767800  \n",
       "2023-11-09  24847300  \n",
       "2023-11-10  28042100  \n",
       "\n",
       "[973 rows x 6 columns]"
      ]
     },
     "execution_count": 9,
     "metadata": {},
     "output_type": "execute_result"
    }
   ],
   "source": [
    "index=df_microsoft.loc['2020-01-01':'2023-11-11']\n",
    "index"
   ]
  },
  {
   "cell_type": "markdown",
   "id": "2627d8fe",
   "metadata": {},
   "source": [
    "Extract the particular Open feature with respect to date using loc function"
   ]
  },
  {
   "cell_type": "code",
   "execution_count": 10,
   "id": "3e68e64d",
   "metadata": {},
   "outputs": [
    {
     "data": {
      "text/plain": [
       "Date\n",
       "2020-01-02    158.779999\n",
       "2020-01-03    158.320007\n",
       "2020-01-06    157.080002\n",
       "2020-01-07    159.320007\n",
       "2020-01-08    158.929993\n",
       "                 ...    \n",
       "2023-11-06    353.450012\n",
       "2023-11-07    359.399994\n",
       "2023-11-08    361.679993\n",
       "2023-11-09    362.299988\n",
       "2023-11-10    361.489990\n",
       "Name: Open, Length: 973, dtype: float64"
      ]
     },
     "execution_count": 10,
     "metadata": {},
     "output_type": "execute_result"
    }
   ],
   "source": [
    "share_open=df_microsoft.loc['2020-01-01':'2023-11-11']['Open']\n",
    "share_open"
   ]
  },
  {
   "cell_type": "markdown",
   "id": "f3e973d1",
   "metadata": {},
   "source": [
    "Extract the particular index with respect to date using loc function"
   ]
  },
  {
   "cell_type": "code",
   "execution_count": 11,
   "id": "0708080c",
   "metadata": {},
   "outputs": [
    {
     "data": {
      "text/plain": [
       "DatetimeIndex(['2020-01-02', '2020-01-03', '2020-01-06', '2020-01-07',\n",
       "               '2020-01-08', '2020-01-09', '2020-01-10', '2020-01-13',\n",
       "               '2020-01-14', '2020-01-15',\n",
       "               ...\n",
       "               '2021-10-29', '2021-11-01', '2021-11-02', '2021-11-03',\n",
       "               '2021-11-04', '2021-11-05', '2021-11-08', '2021-11-09',\n",
       "               '2021-11-10', '2021-11-11'],\n",
       "              dtype='datetime64[ns]', name='Date', length=471, freq=None)"
      ]
     },
     "execution_count": 11,
     "metadata": {},
     "output_type": "execute_result"
    }
   ],
   "source": [
    "# Get Index\n",
    "index=df_microsoft.loc['2020-01-01':'2021-11-11'].index\n",
    "index"
   ]
  },
  {
   "cell_type": "markdown",
   "id": "193f9660",
   "metadata": {},
   "source": [
    "plot the index [date] and share open"
   ]
  },
  {
   "cell_type": "code",
   "execution_count": 12,
   "id": "aa7cab8f",
   "metadata": {},
   "outputs": [],
   "source": [
    "import matplotlib.pyplot as plt\n",
    "%matplotlib inline"
   ]
  },
  {
   "cell_type": "code",
   "execution_count": 13,
   "id": "2f0e5add",
   "metadata": {
    "scrolled": false
   },
   "outputs": [
    {
     "ename": "ValueError",
     "evalue": "x and y must have same first dimension, but have shapes (471,) and (973,)",
     "output_type": "error",
     "traceback": [
      "\u001b[1;31m---------------------------------------------------------------------------\u001b[0m",
      "\u001b[1;31mValueError\u001b[0m                                Traceback (most recent call last)",
      "Cell \u001b[1;32mIn[13], line 6\u001b[0m\n\u001b[0;32m      4\u001b[0m \u001b[38;5;66;03m## Preventing overlapping x axis\u001b[39;00m\n\u001b[0;32m      5\u001b[0m figure\u001b[38;5;241m.\u001b[39mautofmt_xdate()\n\u001b[1;32m----> 6\u001b[0m axis\u001b[38;5;241m.\u001b[39mplot(index,share_open)\n",
      "File \u001b[1;32mD:\\Anaconda\\Lib\\site-packages\\matplotlib\\axes\\_axes.py:1688\u001b[0m, in \u001b[0;36mAxes.plot\u001b[1;34m(self, scalex, scaley, data, *args, **kwargs)\u001b[0m\n\u001b[0;32m   1445\u001b[0m \u001b[38;5;250m\u001b[39m\u001b[38;5;124;03m\"\"\"\u001b[39;00m\n\u001b[0;32m   1446\u001b[0m \u001b[38;5;124;03mPlot y versus x as lines and/or markers.\u001b[39;00m\n\u001b[0;32m   1447\u001b[0m \n\u001b[1;32m   (...)\u001b[0m\n\u001b[0;32m   1685\u001b[0m \u001b[38;5;124;03m(``'green'``) or hex strings (``'#008000'``).\u001b[39;00m\n\u001b[0;32m   1686\u001b[0m \u001b[38;5;124;03m\"\"\"\u001b[39;00m\n\u001b[0;32m   1687\u001b[0m kwargs \u001b[38;5;241m=\u001b[39m cbook\u001b[38;5;241m.\u001b[39mnormalize_kwargs(kwargs, mlines\u001b[38;5;241m.\u001b[39mLine2D)\n\u001b[1;32m-> 1688\u001b[0m lines \u001b[38;5;241m=\u001b[39m [\u001b[38;5;241m*\u001b[39m\u001b[38;5;28mself\u001b[39m\u001b[38;5;241m.\u001b[39m_get_lines(\u001b[38;5;241m*\u001b[39margs, data\u001b[38;5;241m=\u001b[39mdata, \u001b[38;5;241m*\u001b[39m\u001b[38;5;241m*\u001b[39mkwargs)]\n\u001b[0;32m   1689\u001b[0m \u001b[38;5;28;01mfor\u001b[39;00m line \u001b[38;5;129;01min\u001b[39;00m lines:\n\u001b[0;32m   1690\u001b[0m     \u001b[38;5;28mself\u001b[39m\u001b[38;5;241m.\u001b[39madd_line(line)\n",
      "File \u001b[1;32mD:\\Anaconda\\Lib\\site-packages\\matplotlib\\axes\\_base.py:311\u001b[0m, in \u001b[0;36m_process_plot_var_args.__call__\u001b[1;34m(self, data, *args, **kwargs)\u001b[0m\n\u001b[0;32m    309\u001b[0m     this \u001b[38;5;241m+\u001b[39m\u001b[38;5;241m=\u001b[39m args[\u001b[38;5;241m0\u001b[39m],\n\u001b[0;32m    310\u001b[0m     args \u001b[38;5;241m=\u001b[39m args[\u001b[38;5;241m1\u001b[39m:]\n\u001b[1;32m--> 311\u001b[0m \u001b[38;5;28;01myield from\u001b[39;00m \u001b[38;5;28mself\u001b[39m\u001b[38;5;241m.\u001b[39m_plot_args(\n\u001b[0;32m    312\u001b[0m     this, kwargs, ambiguous_fmt_datakey\u001b[38;5;241m=\u001b[39mambiguous_fmt_datakey)\n",
      "File \u001b[1;32mD:\\Anaconda\\Lib\\site-packages\\matplotlib\\axes\\_base.py:504\u001b[0m, in \u001b[0;36m_process_plot_var_args._plot_args\u001b[1;34m(self, tup, kwargs, return_kwargs, ambiguous_fmt_datakey)\u001b[0m\n\u001b[0;32m    501\u001b[0m     \u001b[38;5;28mself\u001b[39m\u001b[38;5;241m.\u001b[39maxes\u001b[38;5;241m.\u001b[39myaxis\u001b[38;5;241m.\u001b[39mupdate_units(y)\n\u001b[0;32m    503\u001b[0m \u001b[38;5;28;01mif\u001b[39;00m x\u001b[38;5;241m.\u001b[39mshape[\u001b[38;5;241m0\u001b[39m] \u001b[38;5;241m!=\u001b[39m y\u001b[38;5;241m.\u001b[39mshape[\u001b[38;5;241m0\u001b[39m]:\n\u001b[1;32m--> 504\u001b[0m     \u001b[38;5;28;01mraise\u001b[39;00m \u001b[38;5;167;01mValueError\u001b[39;00m(\u001b[38;5;124mf\u001b[39m\u001b[38;5;124m\"\u001b[39m\u001b[38;5;124mx and y must have same first dimension, but \u001b[39m\u001b[38;5;124m\"\u001b[39m\n\u001b[0;32m    505\u001b[0m                      \u001b[38;5;124mf\u001b[39m\u001b[38;5;124m\"\u001b[39m\u001b[38;5;124mhave shapes \u001b[39m\u001b[38;5;132;01m{\u001b[39;00mx\u001b[38;5;241m.\u001b[39mshape\u001b[38;5;132;01m}\u001b[39;00m\u001b[38;5;124m and \u001b[39m\u001b[38;5;132;01m{\u001b[39;00my\u001b[38;5;241m.\u001b[39mshape\u001b[38;5;132;01m}\u001b[39;00m\u001b[38;5;124m\"\u001b[39m)\n\u001b[0;32m    506\u001b[0m \u001b[38;5;28;01mif\u001b[39;00m x\u001b[38;5;241m.\u001b[39mndim \u001b[38;5;241m>\u001b[39m \u001b[38;5;241m2\u001b[39m \u001b[38;5;129;01mor\u001b[39;00m y\u001b[38;5;241m.\u001b[39mndim \u001b[38;5;241m>\u001b[39m \u001b[38;5;241m2\u001b[39m:\n\u001b[0;32m    507\u001b[0m     \u001b[38;5;28;01mraise\u001b[39;00m \u001b[38;5;167;01mValueError\u001b[39;00m(\u001b[38;5;124mf\u001b[39m\u001b[38;5;124m\"\u001b[39m\u001b[38;5;124mx and y can be no greater than 2D, but have \u001b[39m\u001b[38;5;124m\"\u001b[39m\n\u001b[0;32m    508\u001b[0m                      \u001b[38;5;124mf\u001b[39m\u001b[38;5;124m\"\u001b[39m\u001b[38;5;124mshapes \u001b[39m\u001b[38;5;132;01m{\u001b[39;00mx\u001b[38;5;241m.\u001b[39mshape\u001b[38;5;132;01m}\u001b[39;00m\u001b[38;5;124m and \u001b[39m\u001b[38;5;132;01m{\u001b[39;00my\u001b[38;5;241m.\u001b[39mshape\u001b[38;5;132;01m}\u001b[39;00m\u001b[38;5;124m\"\u001b[39m)\n",
      "\u001b[1;31mValueError\u001b[0m: x and y must have same first dimension, but have shapes (471,) and (973,)"
     ]
    },
    {
     "data": {
      "image/png": "[encoded data removed]",
      "text/plain": [
       "<Figure size 640x480 with 1 Axes>"
      ]
     },
     "metadata": {},
     "output_type": "display_data"
    }
   ],
   "source": [
    "figure,axis=plt.subplots()\n",
    "plt.tight_layout()\n",
    "\n",
    "## Preventing overlapping x axis\n",
    "figure.autofmt_xdate()\n",
    "axis.plot(index,share_open)"
   ]
  },
  {
   "cell_type": "code",
   "execution_count": null,
   "id": "8a6d5d0f",
   "metadata": {
    "scrolled": false
   },
   "outputs": [],
   "source": [
    "df_microsoft"
   ]
  },
  {
   "cell_type": "code",
   "execution_count": null,
   "id": "bee16ffe",
   "metadata": {},
   "outputs": [],
   "source": [
    "df_microsoft.reset_index() # reset indexing"
   ]
  },
  {
   "cell_type": "code",
   "execution_count": null,
   "id": "8fe15db7",
   "metadata": {},
   "outputs": [],
   "source": [
    "df_microsoft.info()"
   ]
  },
  {
   "cell_type": "code",
   "execution_count": null,
   "id": "f6c75c2e",
   "metadata": {},
   "outputs": [],
   "source": [
    "df_microsoft.head()"
   ]
  },
  {
   "cell_type": "markdown",
   "id": "32956b9f",
   "metadata": {},
   "source": [
    "### About Datetime Library"
   ]
  },
  {
   "cell_type": "code",
   "execution_count": null,
   "id": "28cf9937",
   "metadata": {},
   "outputs": [],
   "source": [
    "from datetime import datetime"
   ]
  },
  {
   "cell_type": "code",
   "execution_count": null,
   "id": "f940333b",
   "metadata": {},
   "outputs": [],
   "source": [
    "datetime(2023,11,8) # Set datetime"
   ]
  },
  {
   "cell_type": "code",
   "execution_count": null,
   "id": "3d90113a",
   "metadata": {},
   "outputs": [],
   "source": [
    "datetime.now() # Extract the live datetime"
   ]
  },
  {
   "cell_type": "code",
   "execution_count": null,
   "id": "8580d2a1",
   "metadata": {},
   "outputs": [],
   "source": [
    "date = datetime(2023,11,11) # Another way to set datetime\n",
    "date"
   ]
  },
  {
   "cell_type": "code",
   "execution_count": null,
   "id": "f842f3f8",
   "metadata": {},
   "outputs": [],
   "source": [
    "date.date() # Accessing the date from date variable"
   ]
  },
  {
   "cell_type": "code",
   "execution_count": null,
   "id": "27ffc629",
   "metadata": {},
   "outputs": [],
   "source": [
    "date.weekday() # Return the Weak day"
   ]
  },
  {
   "cell_type": "code",
   "execution_count": null,
   "id": "c6b22b6b",
   "metadata": {},
   "outputs": [],
   "source": [
    "date.day # Extract the day"
   ]
  },
  {
   "cell_type": "code",
   "execution_count": null,
   "id": "9cf1bd27",
   "metadata": {},
   "outputs": [],
   "source": [
    "date.year # Extract the year"
   ]
  },
  {
   "cell_type": "code",
   "execution_count": null,
   "id": "8bbfcaca",
   "metadata": {},
   "outputs": [],
   "source": [
    "date.month # Extract the Month"
   ]
  },
  {
   "cell_type": "markdown",
   "id": "7e31148c",
   "metadata": {},
   "source": [
    "## Time Resampling\n",
    "\n",
    "The resample() function is used to resample time-series data. Convenience method for frequency conversion and resampling of time series. Object must have a datetime-like index (DatetimeIndex, PeriodIndex, or TimedeltaIndex), or pass datetime-like values to the on or level keyword."
   ]
  },
  {
   "cell_type": "code",
   "execution_count": null,
   "id": "a6159ca9",
   "metadata": {},
   "outputs": [],
   "source": [
    "df_microsoft.resample(rule='A').min() # Rule A returns annual and min aggregate function return minimum for all feature by year"
   ]
  },
  {
   "cell_type": "code",
   "execution_count": null,
   "id": "10da8078",
   "metadata": {},
   "outputs": [],
   "source": [
    "df_microsoft.resample(rule='A').max() # By Max"
   ]
  },
  {
   "cell_type": "code",
   "execution_count": null,
   "id": "8d80ae2b",
   "metadata": {},
   "outputs": [],
   "source": [
    "## year end frequency\n",
    "df_microsoft.resample(rule='A').max()['Open'].plot() # Select rule with particular feature"
   ]
  },
  {
   "cell_type": "code",
   "execution_count": null,
   "id": "1fd9af30",
   "metadata": {},
   "outputs": [],
   "source": [
    "df_microsoft.resample(rule='QS').max()['Open'].plot() # Quarter data "
   ]
  },
  {
   "cell_type": "code",
   "execution_count": null,
   "id": "2868b826",
   "metadata": {},
   "outputs": [],
   "source": [
    "df_microsoft.resample(rule='M').max()['Open'].plot() # Month Rule"
   ]
  },
  {
   "cell_type": "code",
   "execution_count": null,
   "id": "e04bda66",
   "metadata": {},
   "outputs": [],
   "source": [
    "df_microsoft.resample(rule='BQS').max()"
   ]
  },
  {
   "cell_type": "markdown",
   "id": "4a8a0ffc",
   "metadata": {},
   "source": [
    "rule='BQS': This specifies the resampling rule. 'BQS' stands for business quarter start frequency. It means the data will be resampled at the start of each business quarter."
   ]
  },
  {
   "cell_type": "code",
   "execution_count": null,
   "id": "f3692cb1",
   "metadata": {},
   "outputs": [],
   "source": [
    "df_microsoft.Open.resample(rule='M').max().plot(kind='bar',figsize=(15,6)) # For every month"
   ]
  },
  {
   "cell_type": "code",
   "execution_count": null,
   "id": "5f62861d",
   "metadata": {},
   "outputs": [],
   "source": [
    "df_microsoft.Open.resample(rule='A').mean().plot(kind='bar',figsize=(15,6)) "
   ]
  },
  {
   "cell_type": "code",
   "execution_count": null,
   "id": "a1a3e03f",
   "metadata": {},
   "outputs": [],
   "source": [
    "df_microsoft.Open"
   ]
  },
  {
   "cell_type": "markdown",
   "id": "c7da83f1",
   "metadata": {},
   "source": [
    "### Rolling\n",
    "\n",
    " The rolling method is used for rolling window calculations on time series or sequential data. It allows you to perform operations on a specified window of data as it moves through the dataset. This is particularly useful for tasks like calculating moving averages or other window-based statistics."
   ]
  },
  {
   "cell_type": "markdown",
   "id": "456faa6f",
   "metadata": {},
   "source": [
    "### Window Statistics\n",
    "\n",
    "Window-based statistics refer to statistical calculations performed over a moving or rolling window of a dataset. Instead of considering the entire dataset at once, you analyze a subset of the data that \"slides\" or \"rolls\" through the entire dataset. This is particularly useful in time series analysis or any sequential data where patterns might change over time.\n",
    "\n",
    "The window size is a crucial parameter in window-based statistics, determining the number of data points included in each window. Common operations include calculating the mean, sum, standard deviation, minimum, maximum, or other statistical measures within each window.\n",
    "\n",
    "For example, if you have daily stock prices and you want to calculate a 7-day moving average, you would use a rolling window of size 7, and for each day, you calculate the average of the stock prices in the past 7 days."
   ]
  },
  {
   "cell_type": "code",
   "execution_count": null,
   "id": "9bf927ef",
   "metadata": {},
   "outputs": [],
   "source": [
    "df_microsoft.Open.rolling(window=3).max()"
   ]
  },
  {
   "cell_type": "code",
   "execution_count": null,
   "id": "7fdacbad",
   "metadata": {},
   "outputs": [],
   "source": [
    "df_microsoft.Open.rolling(3).mean()"
   ]
  },
  {
   "cell_type": "code",
   "execution_count": null,
   "id": "4031cf4a",
   "metadata": {},
   "outputs": [],
   "source": [
    "df_microsoft['Open:30 days rolling']=df_microsoft['Open'].rolling(30).mean()"
   ]
  },
  {
   "cell_type": "code",
   "execution_count": null,
   "id": "a56888f6",
   "metadata": {},
   "outputs": [],
   "source": [
    "df_microsoft.head(40)"
   ]
  },
  {
   "cell_type": "code",
   "execution_count": null,
   "id": "b67ccdbf",
   "metadata": {},
   "outputs": [],
   "source": [
    "df_microsoft['Open:30 days rolling'].plot()"
   ]
  },
  {
   "cell_type": "code",
   "execution_count": null,
   "id": "a43f27c7",
   "metadata": {
    "scrolled": true
   },
   "outputs": [],
   "source": [
    "df_microsoft[['Open','Open:30 days rolling']].plot(figsize=(12,5))"
   ]
  },
  {
   "cell_type": "markdown",
   "id": "c21ee34d",
   "metadata": {},
   "source": [
    "####  Finding Trend"
   ]
  },
  {
   "cell_type": "code",
   "execution_count": null,
   "id": "33fe0bd0",
   "metadata": {},
   "outputs": [],
   "source": [
    "# Required Libraries\n",
    "\n",
    "import pandas as pd\n",
    "import matplotlib.pyplot as plt\n",
    "import seaborn as sns"
   ]
  },
  {
   "cell_type": "code",
   "execution_count": null,
   "id": "0192eeee",
   "metadata": {},
   "outputs": [],
   "source": [
    "# Plotting the closing prices over time\n",
    "plt.figure(figsize=(12, 6))\n",
    "sns.lineplot(x='Date', y='Close', data=df_microsoft)\n",
    "plt.title('Closing Prices Over Time')\n",
    "plt.xlabel('Date')\n",
    "plt.ylabel('Closing Price')\n",
    "plt.show()"
   ]
  },
  {
   "cell_type": "markdown",
   "id": "d4e14233",
   "metadata": {},
   "source": [
    "Observation questions for time series data help guide your analysis by prompting you to explore specific aspects of the dataset. Here are some observation questions that you might consider when working with time series data:\n",
    "\n",
    "1. **Trend:**\n",
    "   - Is there a discernible trend in the data over time?\n",
    "   - Is the trend linear or nonlinear?\n",
    "\n",
    "2. **Seasonality:**\n",
    "   - Are there repeating patterns or seasonal effects?\n",
    "   - What is the periodicity of the seasonality (daily, weekly, monthly)?\n",
    "\n",
    "3. **Outliers:**\n",
    "   - Are there any unusual or outlier observations?\n",
    "   - How do outliers impact the overall pattern?\n",
    "\n",
    "4. **Stationarity:**\n",
    "   - Does the data exhibit stationarity, or are there clear signs of non-stationarity?\n",
    "   - If non-stationary, what transformations might be applied to achieve stationarity?\n",
    "\n",
    "5. **Correlations:**\n",
    "   - Are there lagged correlations between past and present observations?\n",
    "   - How does autocorrelation behave at different lags?\n",
    "\n",
    "6. **Anomalies:**\n",
    "   - Are there specific events or anomalies in the data that can be identified?\n",
    "   - How do these anomalies affect the overall pattern?\n",
    "\n",
    "7. **Cyclic Patterns:**\n",
    "   - Are there long-term cyclic patterns unrelated to seasonality?\n",
    "   - How do these cycles impact the data?\n",
    "\n",
    "8. **Forecasting:**\n",
    "   - Can you make short-term or long-term forecasts based on the observed patterns?\n",
    "   - What forecasting methods might be appropriate?\n",
    "\n",
    "9. **Data Distribution:**\n",
    "   - How is the distribution of the data changing over time?\n",
    "   - Are there any shifts in central tendency or variability?\n",
    "\n",
    "10. **Impact of External Factors:**\n",
    "    - How do external factors (e.g., holidays, economic events) influence the time series?\n",
    "    - Can you quantify the impact of these external factors?\n",
    "\n",
    "11. **Model Validation:**\n",
    "    - How well do different models capture the observed patterns?\n",
    "    - What metrics can be used to evaluate the model's performance?\n",
    "\n",
    "12. **Data Quality:**\n",
    "    - Are there missing values or gaps in the time series data?\n",
    "    - How might data quality issues affect the analysis?\n",
    "\n",
    "These questions can guide your exploration and analysis of time series data, helping you gain insights into underlying patterns and relationships. Depending on the specific characteristics of your data, you may need to tailor these questions or include additional ones to address your research or analysis goals."
   ]
  },
  {
   "cell_type": "code",
   "execution_count": null,
   "id": "4368637e",
   "metadata": {},
   "outputs": [],
   "source": []
  }
 ],
 "metadata": {
  "kernelspec": {
   "display_name": "Python 3 (ipykernel)",
   "language": "python",
   "name": "python3"
  },
  "language_info": {
   "codemirror_mode": {
    "name": "ipython",
    "version": 3
   },
   "file_extension": ".py",
   "mimetype": "text/x-python",
   "name": "python",
   "nbconvert_exporter": "python",
   "pygments_lexer": "ipython3",
   "version": "3.11.5"
  }
 },
 "nbformat": 4,
 "nbformat_minor": 5
}
